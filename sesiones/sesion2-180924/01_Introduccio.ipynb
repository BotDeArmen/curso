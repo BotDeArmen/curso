{
 "cells": [
  {
   "cell_type": "markdown",
   "metadata": {},
   "source": [
    "# Introducción a *Python*\n",
    "\n",
    "### Instrucciones de uso\n",
    "\n",
    "A continuación, se presenta la sintaxis básica del lenguaje de programación Python junto con ejemplos interactivos.\n",
    "\n",
    "## Variables y tipos de variables\n",
    "\n",
    "Podemos entender una variable como un contenedor en el que guardamos datos para poder manejarlos más adelante. En Python, las variables no tienen un tipo fijo, es decir, no es necesario especificar si la variable será numérica, un carácter, una cadena de caracteres o una lista, por ejemplo. Además, las variables pueden ser declaradas e inicializadas en cualquier momento, a diferencia de otros lenguajes de programación.\n",
    "\n",
    "Para declarar una variable, utilizamos la expresión `nombre_de_variable = valor`. Se recomienda revisar el documento [PEP-8](https://www.python.org/dev/peps/pep-0008/#function-and-variable-names) para seguir buenas prácticas en la nomenclatura de variables. Sin embargo, en términos generales, se recomienda evitar el uso de mayúsculas al inicio, separar las palabras con el carácter `_` y no utilizar acentos ni caracteres especiales como el símbolo del `€` o la `ñ`, por ejemplo.\n",
    "\n",
    "Veamos algunos ejemplos de declaración de variables y cómo usarlas:"
   ]
  },
  {
   "cell_type": "code",
   "execution_count": 2,
   "metadata": {
    "attributes": {
     "classes": [
      "sourceCode"
     ],
     "id": ""
    }
   },
   "outputs": [],
   "source": [
    "# Declaramos una variable llamada 'variable_numerica' que contiene el valor entero 12.\n",
    "variable_numerica = 12\n",
    "\n",
    "# Declaramos una variable llamada 'monstruo' que contiene el valor 'Godzilla'.\n",
    "monstruo = 'Godzilla'\n",
    "\n",
    "# Declaramos una variable llamada 'planetas' que es una lista de cadenas de caracteres.\n",
    "planetas = ['Mercurio', 'Venus', 'Tierra', 'Marte']"
   ]
  },
  {
   "cell_type": "code",
   "execution_count": 3,
   "metadata": {
    "attributes": {
     "classes": [
      "sourceCode"
     ],
     "id": ""
    }
   },
   "outputs": [
    {
     "name": "stdout",
     "output_type": "stream",
     "text": [
      "30\n"
     ]
    }
   ],
   "source": [
    "la_mi_edad = 25\n",
    "la_mi_edad_en_5 = la_mi_edad + 5\n",
    "# 'Imprimimos' el valor calculado que será, efectivamente, 30\n",
    "print(la_mi_edad_en_5)"
   ]
  },
  {
   "cell_type": "markdown",
   "metadata": {},
   "source": [
    "Los tipos de datos nativos que una variable en Python puede contener son: números enteros (`int`), números decimales (`float`), números complejos (`complex`), cadenas de caracteres (`string`), listas (`list`), tuplas (`tuple`) y diccionarios (`dict`). Veamos cada uno de estos tipos:"
   ]
  },
  {
   "cell_type": "code",
   "execution_count": 4,
   "metadata": {
    "attributes": {
     "classes": [
      "sourceCode"
     ],
     "id": ""
    }
   },
   "outputs": [
    {
     "name": "stdout",
     "output_type": "stream",
     "text": [
      "-4\n",
      "6\n",
      "-5\n",
      "-0.2\n",
      "-1\n"
     ]
    }
   ],
   "source": [
    "# Un número entero\n",
    "int_var = 1\n",
    "another_int_var = -5\n",
    "# Podemos sumarlos, restarlos, multiplicarlos o dividirlos.\n",
    "print(int_var + another_int_var)\n",
    "print(int_var - another_int_var)\n",
    "print(int_var * another_int_var)\n",
    "print(int_var / another_int_var)\n",
    "\n",
    "# También podemos realizar la división entera.\n",
    "# Dado que solo trabajamos con números enteros, no habrá parte decimal.\n",
    "print(int_var // another_int_var)"
   ]
  },
  {
   "cell_type": "markdown",
   "metadata": {},
   "source": [
    "El comportamiento del operador `/` es una de las diferencias entre Python 2 y Python 3. Mientras que en Python 3 el operador `/` realiza la división real entre dos números enteros (fíjate que `1 / -5` da como resultado `0.2`), en Python 2 realizaba la división entera (por lo que el resultado de ejecutar `1 / -5` en Python 2 sería `-1`). En Python 3, para realizar la división entera, se usa el operador `//`."
   ]
  },
  {
   "cell_type": "code",
   "execution_count": 5,
   "metadata": {
    "attributes": {
     "classes": [
      "sourceCode"
     ],
     "id": ""
    }
   },
   "outputs": [
    {
     "name": "stdout",
     "output_type": "stream",
     "text": [
      "3.2\n",
      "-1.8\n",
      "1.75\n",
      "0.27999999999999997\n",
      "0.0\n"
     ]
    }
   ],
   "source": [
    "# Un número decimal o 'float'\n",
    "float_var = 2.5\n",
    "another_float_var = .7\n",
    "# Convertimos un número entero en uno decimal utilizando la función 'float()'\n",
    "encore_float = float(7)\n",
    "# Podemos hacer lo mismo en sentido contrario con la función 'int()'\n",
    "new_int = int(encore_float)\n",
    "\n",
    "# Podemos realizar las mismas operaciones que con los números enteros, pero en este caso la división será\n",
    "# decimal si alguno de los números es decimal.\n",
    "print(another_float_var + float_var)\n",
    "print(another_float_var - float_var)\n",
    "print(another_float_var * float_var)\n",
    "print(another_float_var / float_var)\n",
    "print(another_float_var // float_var)  # La división entera con números flotantes puede no ser intuitiva."
   ]
  },
  {
   "cell_type": "code",
   "execution_count": 6,
   "metadata": {
    "attributes": {
     "classes": [
      "sourceCode"
     ],
     "id": ""
    }
   },
   "outputs": [
    {
     "name": "stdout",
     "output_type": "stream",
     "text": [
      "3.0\n",
      "2.0\n"
     ]
    }
   ],
   "source": [
    "# Un número complejo\n",
    "complex_var = 2 + 3j\n",
    "# Podemos acceder a la parte imaginaria o a la parte real:\n",
    "print(complex_var.imag)\n",
    "print(complex_var.real)"
   ]
  },
  {
   "cell_type": "code",
   "execution_count": 7,
   "metadata": {},
   "outputs": [
    {
     "name": "stdout",
     "output_type": "stream",
     "text": [
      "Hola, Bio! ñç\n"
     ]
    }
   ],
   "source": [
    "# Cadena de caracteres\n",
    "my_string = 'Hola, Bio! ñç'\n",
    "print(my_string)"
   ]
  },
  {
   "cell_type": "markdown",
   "metadata": {},
   "source": [
    "Observa que podemos incluir caracteres Unicode (como `ñ` o `ç`) en las cadenas. Esto también es una novedad de Python 3, ya que las variables de tipo `str` ahora utilizan codificación UTF-8."
   ]
  },
  {
   "cell_type": "code",
   "execution_count": 8,
   "metadata": {
    "attributes": {
     "classes": [
      "sourceCode"
     ],
     "id": ""
    }
   },
   "outputs": [
    {
     "name": "stdout",
     "output_type": "stream",
     "text": [
      "Hola, Bio! ñc\n",
      "Hola, Guido! Tienes 5 nuevos correos\n"
     ]
    }
   ],
   "source": [
    "# Podemos concatenar dos cadenas utilizando el operador '+'.\n",
    "same_string = 'Hola, ' + 'Bio' + '!' + ' ñc'\n",
    "print(same_string)\n",
    "\n",
    "# En Python también podemos utilizar comodines (wildcards) como en la función 'sprintf' de C. Por ejemplo:\n",
    "name = \"Guido\"\n",
    "num_emails = 5\n",
    "print(\"Hola, %s! Tienes %d nuevos correos\" % (name, num_emails))"
   ]
  },
  {
   "cell_type": "markdown",
   "metadata": {},
   "source": [
    "En el ejemplo anterior, hemos sustituido en el _string_ la cadena `%s` por el contenido de la variable `name`, que es un _string_, y `%d` por `num_emails`, que es un número entero. También podríamos utilizar `%f` para números decimales (podríamos indicar la precisión, por ejemplo, con `%5.3f`, donde el número tendría un tamaño total de cinco dígitos y tres serían para la parte decimal). Hay muchas otras posibilidades, pero debemos tener en cuenta el tipo de variable que queremos sustituir. Por ejemplo, si utilizamos `%d` y el contenido es un _string_, Python generará un mensaje de error. Para evitar esta situación, se recomienda usar la función `str()` para convertir el valor a _string_.\n",
    "\n",
    "También podemos mostrar el contenido de las variables sin especificar su tipo utilizando `format`:"
   ]
  },
  {
   "cell_type": "code",
   "execution_count": 9,
   "metadata": {},
   "outputs": [
    {
     "name": "stdout",
     "output_type": "stream",
     "text": [
      "Hola, Guido! Tienes 5 nuevos correos\n"
     ]
    }
   ],
   "source": [
    "print(\"Hola, {}! Tienes {} nuevos correos\".format(name, num_emails))"
   ]
  },
  {
   "cell_type": "markdown",
   "metadata": {},
   "source": [
    "Ahora presentaremos otros tipos de datos nativos más complejos: listas, tuplas y diccionarios:"
   ]
  },
  {
   "cell_type": "code",
   "execution_count": 10,
   "metadata": {},
   "outputs": [
    {
     "name": "stdout",
     "output_type": "stream",
     "text": [
      "['3', 'una cadena', ['una lista dentro de otra lista', 'segundo elemento'], 7.5]\n"
     ]
    }
   ],
   "source": [
    "# Definimos una lista con los nombres de los planetas (como _strings_).\n",
    "planets = ['Mercurio', 'Venus', 'Tierra', 'Marte',\n",
    "           'Júpiter', 'Saturno', 'Urano', 'Neptuno']\n",
    "# También puede contener números.\n",
    "prime_numbers = [2, 3, 5, 7]\n",
    "\n",
    "# Una lista vacía\n",
    "empty_list = []\n",
    "\n",
    "# O una mezcla de cualquier tipo:\n",
    "sandbox = ['3', 'una cadena', ['una lista dentro de otra lista', 'segundo elemento'], 7.5]\n",
    "print(sandbox)"
   ]
  },
  {
   "cell_type": "code",
   "execution_count": 12,
   "metadata": {
    "attributes": {
     "classes": [
      "sourceCode"
     ],
     "id": ""
    }
   },
   "outputs": [
    {
     "name": "stdout",
     "output_type": "stream",
     "text": [
      "['Mercurio', 'Venus', 'Tierra', 'Marte', 'Júpiter', 'Saturno', 'Urano', 'Neptuno', 'Pluto', 'Plutón']\n"
     ]
    }
   ],
   "source": [
    "# Podemos añadir elementos a una lista.\n",
    "planets.append('Plutón')\n",
    "print(planets)"
   ]
  },
  {
   "cell_type": "code",
   "execution_count": 13,
   "metadata": {
    "attributes": {
     "classes": [
      "sourceCode"
     ],
     "id": ""
    }
   },
   "outputs": [
    {
     "name": "stdout",
     "output_type": "stream",
     "text": [
      "['Mercurio', 'Venus', 'Tierra', 'Marte', 'Júpiter', 'Saturno', 'Urano', 'Neptuno', 'Pluto']\n"
     ]
    }
   ],
   "source": [
    "# O podemos eliminar elementos.\n",
    "planets.remove('Plutón')\n",
    "print(planets)"
   ]
  },
  {
   "cell_type": "code",
   "execution_count": 14,
   "metadata": {
    "attributes": {
     "classes": [
      "sourceCode"
     ],
     "id": ""
    }
   },
   "outputs": [
    {
     "name": "stdout",
     "output_type": "stream",
     "text": [
      "['Mercurio', 'Tierra', 'Marte', 'Júpiter', 'Saturno', 'Urano', 'Neptuno', 'Pluto']\n"
     ]
    }
   ],
   "source": [
    "# Podemos eliminar cualquier elemento de la lista.\n",
    "planets.remove('Venus')\n",
    "print(planets)"
   ]
  },
  {
   "cell_type": "code",
   "execution_count": 15,
   "metadata": {
    "attributes": {
     "classes": [
      "sourceCode"
     ],
     "id": ""
    }
   },
   "outputs": [
    {
     "name": "stdout",
     "output_type": "stream",
     "text": [
      "['Mercurio', 'Tierra', 'Marte', 'Júpiter', 'Saturno', 'Urano', 'Neptuno', 'Pluto', 'Venus']\n"
     ]
    }
   ],
   "source": [
    "# Siempre que añadamos un elemento, será al final de la lista. Una lista está ordenada.\n",
    "planets.append('Venus')\n",
    "print(planets)"
   ]
  },
  {
   "cell_type": "code",
   "execution_count": 16,
   "metadata": {
    "attributes": {
     "classes": [
      "sourceCode"
     ],
     "id": ""
    }
   },
   "outputs": [
    {
     "name": "stdout",
     "output_type": "stream",
     "text": [
      "['Júpiter', 'Marte', 'Mercurio', 'Neptuno', 'Pluto', 'Saturno', 'Tierra', 'Urano', 'Venus']\n"
     ]
    }
   ],
   "source": [
    "# Si queremos ordenarla alfabéticamente, podemos utilizar la función 'sorted()'\n",
    "print(sorted(planets))"
   ]
  },
  {
   "cell_type": "code",
   "execution_count": 17,
   "metadata": {
    "attributes": {
     "classes": [
      "sourceCode"
     ],
     "id": ""
    }
   },
   "outputs": [
    {
     "name": "stdout",
     "output_type": "stream",
     "text": [
      "['Godzilla', 'King Kong', 'Cthulhu']\n"
     ]
    }
   ],
   "source": [
    "# Podemos concatenar dos listas:\n",
    "monsters = ['Godzilla', 'King Kong']\n",
    "more_monsters = ['Cthulhu']\n",
    "print(monsters + more_monsters)"
   ]
  },
  {
   "cell_type": "code",
   "execution_count": 18,
   "metadata": {
    "attributes": {
     "classes": [
      "sourceCode"
     ],
     "id": ""
    }
   },
   "outputs": [
    {
     "name": "stdout",
     "output_type": "stream",
     "text": [
      "['Godzilla', 'King Kong', 'Cthulhu']\n"
     ]
    }
   ],
   "source": [
    "# Podemos concatenar una lista con otra y guardar el resultado en la misma lista:\n",
    "monsters.extend(more_monsters)\n",
    "print(monsters)"
   ]
  },
  {
   "cell_type": "code",
   "execution_count": 19,
   "metadata": {
    "attributes": {
     "classes": [
      "sourceCode"
     ],
     "id": ""
    }
   },
   "outputs": [
    {
     "name": "stdout",
     "output_type": "stream",
     "text": [
      "Godzilla\n",
      "King Kong\n",
      "Cthulhu\n",
      "King Kong\n"
     ]
    }
   ],
   "source": [
    "# Podemos acceder a un elemento específico de la lista:\n",
    "print(monsters[0])\n",
    "# El primer elemento de una lista es el 0, por lo tanto, el segundo será el 1:\n",
    "print(monsters[1])\n",
    "# Podemos acceder al último elemento usando índices negativos:\n",
    "print(monsters[-1])\n",
    "# El penúltimo elemento:\n",
    "print(monsters[-2])"
   ]
  },
  {
   "cell_type": "code",
   "execution_count": 20,
   "metadata": {},
   "outputs": [
    {
     "name": "stdout",
     "output_type": "stream",
     "text": [
      "['Mercurio', 'Venus']\n"
     ]
    }
   ],
   "source": [
    "# También podemos obtener partes de una lista utilizando la técnica de 'slicing'.\n",
    "planets = ['Mercurio', 'Venus', 'Tierra', 'Marte',\n",
    "           'Júpiter', 'Saturno', 'Urano', 'Neptuno']\n",
    "# Por ejemplo, los dos primeros elementos:\n",
    "print(planets[:2])"
   ]
  },
  {
   "cell_type": "code",
   "execution_count": 21,
   "metadata": {},
   "outputs": [
    {
     "name": "stdout",
     "output_type": "stream",
     "text": [
      "['Tierra', 'Marte', 'Júpiter']\n"
     ]
    }
   ],
   "source": [
    "# O los elementos entre las posiciones 2 y 4\n",
    "print(planets[2:5])"
   ]
  },
  {
   "cell_type": "markdown",
   "metadata": {},
   "source": [
    "Observa el último ejemplo: en la posición 2 encontramos el tercer elemento de la lista (`'Tierra'`), ya que las listas comienzan a indexarse en 0. Además, el último índice indicado (la posición `5`) no se incluye en el resultado."
   ]
  },
  {
   "cell_type": "code",
   "execution_count": 22,
   "metadata": {
    "attributes": {
     "classes": [
      "sourceCode"
     ],
     "id": ""
    }
   },
   "outputs": [
    {
     "name": "stdout",
     "output_type": "stream",
     "text": [
      "['Venus', 'Tierra', 'Marte', 'Júpiter', 'Saturno', 'Urano']\n"
     ]
    }
   ],
   "source": [
    "# O los elementos desde el segundo hasta el penúltimo:\n",
    "print(planets[1:-1])"
   ]
  },
  {
   "cell_type": "markdown",
   "metadata": {},
   "source": [
    "La tècnica de _**slicing**_ és molt important i ens permet gestionar\n",
    "llistes d'una manera molt senzilla i potent. Serà imprescindible\n",
    "dominar-la per afrontar molts dels problemes que haurem de resoldre en el camp de\n",
    "la ciència de dades."
   ]
  },
  {
   "cell_type": "code",
   "execution_count": 23,
   "metadata": {
    "attributes": {
     "classes": [
      "sourceCode"
     ],
     "id": ""
    }
   },
   "outputs": [
    {
     "name": "stdout",
     "output_type": "stream",
     "text": [
      "['Godzilla', 'King Kong', 'Kraken']\n"
     ]
    }
   ],
   "source": [
    "# Podemos modificar un elemento específico de una lista:\n",
    "monsters = ['Godzilla', 'King Kong', 'Cthulhu']\n",
    "monsters[-1] = 'Kraken'\n",
    "print(monsters)"
   ]
  },
  {
   "cell_type": "code",
   "execution_count": null,
   "metadata": {
    "attributes": {
     "classes": [
      "sourceCode"
     ],
     "id": ""
    }
   },
   "outputs": [],
   "source": [
    "# Una tupla és un tipus molt semblant a una llista, però és immutable, és a dir, un cop declarada \n",
    "# no podem afegir-hi elements ni eliminar-ne:\n",
    "birth_year = ('Stephen Hawking', 1942)\n",
    "# Si executem la línia següent, obtindrem un error de tipus 'TypeError'\n",
    "birth_year[1] = 1984"
   ]
  },
  {
   "cell_type": "markdown",
   "metadata": {},
   "source": [
    "Los errores en Python suelen ser muy informativos. Una búsqueda en internet nos ayudará en la gran mayoría de los problemas que podamos encontrar."
   ]
  },
  {
   "cell_type": "code",
   "execution_count": 24,
   "metadata": {
    "attributes": {
     "classes": [
      "sourceCode"
     ],
     "id": ""
    }
   },
   "outputs": [
    {
     "name": "stdout",
     "output_type": "stream",
     "text": [
      "t\n",
      "Einstein\n",
      "Einstein\n",
      "['E', 'i', 'n', 's', 't', 'e', 'i', 'n']\n",
      "Einstein\n",
      "E.i.n.s.t.e.i.n\n"
     ]
    }
   ],
   "source": [
    "# Una cadena de caracteres también se considera una lista de caracteres.\n",
    "# Por lo tanto, podemos acceder a una posición determinada (aunque no modificarla):\n",
    "name = 'Albert Einstein'\n",
    "print(name[5])\n",
    "\n",
    "# También podemos usar slicing con las cadenas de caracteres\n",
    "print(name[7:15])\n",
    "\n",
    "# Podemos separar la cadena en base al carácter que elijamos (en este caso, el espacio en blanco) utilizando\n",
    "# la función 'split()'.\n",
    "n, surname = name.split()\n",
    "print(surname)\n",
    "\n",
    "# Y podemos convertir una cadena en una lista de caracteres fácilmente:\n",
    "chars = list(surname)\n",
    "print(chars)\n",
    "\n",
    "# Para unir los diferentes elementos de una lista mediante un carácter, podemos utilizar la función \n",
    "# 'join()':\n",
    "print(''.join(chars))\n",
    "print('.'.join(chars))"
   ]
  },
  {
   "cell_type": "code",
   "execution_count": 26,
   "metadata": {
    "attributes": {
     "classes": [
      "sourceCode"
     ],
     "id": ""
    }
   },
   "outputs": [
    {
     "name": "stdout",
     "output_type": "stream",
     "text": [
      "-5\n",
      "5\n"
     ]
    }
   ],
   "source": [
    "# El operador ',' crea tuplas. Por ejemplo, el típico problema de asignar el valor de una \n",
    "# variable a otra en Python se puede resolver en una línea de manera muy elegante utilizando \n",
    "# tuplas (es un idiomático):\n",
    "a = 5\n",
    "b = -5\n",
    "a, b = b, a\n",
    "print(a)\n",
    "print(b)"
   ]
  },
  {
   "cell_type": "markdown",
   "metadata": {},
   "source": [
    "El ejemplo anterior es un *idioma* típico de Python. En la tercera línea, creamos una tupla `(a, b)` a la que asignamos los valores uno por uno de la tupla `(b, a)`. Los paréntesis no son necesarios, y por eso la notación queda tan reducida.\n",
    "\n",
    "Finalmente, presentaremos los diccionarios, una estructura de datos muy útil en la que asignamos un valor a una clave en el diccionario:"
   ]
  },
  {
   "cell_type": "code",
   "execution_count": 27,
   "metadata": {
    "attributes": {
     "classes": [
      "sourceCode"
     ],
     "id": ""
    }
   },
   "outputs": [
    {
     "name": "stdout",
     "output_type": "stream",
     "text": [
      "España\n"
     ]
    }
   ],
   "source": [
    "# Códigos internacionales de algunos países. La clave o 'key' es el código del país, y el valor, su nombre:\n",
    "country_codes = {34: 'España', 376: 'Andorra', 41: 'Suiza', 424: None}\n",
    "\n",
    "# Podemos buscar\n",
    "my_code = 34\n",
    "country = country_codes[my_code]\n",
    "print(country)"
   ]
  },
  {
   "cell_type": "code",
   "execution_count": 28,
   "metadata": {
    "attributes": {
     "classes": [
      "sourceCode"
     ],
     "id": ""
    }
   },
   "outputs": [
    {
     "name": "stdout",
     "output_type": "stream",
     "text": [
      "dict_keys([34, 376, 41, 424])\n"
     ]
    }
   ],
   "source": [
    "# Podemos obtener todas las claves:\n",
    "print(country_codes.keys())"
   ]
  },
  {
   "cell_type": "code",
   "execution_count": 29,
   "metadata": {
    "attributes": {
     "classes": [
      "sourceCode"
     ],
     "id": ""
    }
   },
   "outputs": [
    {
     "name": "stdout",
     "output_type": "stream",
     "text": [
      "dict_values(['España', 'Andorra', 'Suiza', None])\n"
     ]
    }
   ],
   "source": [
    "# O los valores:\n",
    "print(country_codes.values())"
   ]
  },
  {
   "cell_type": "markdown",
   "metadata": {},
   "source": [
    "**Es muy importante notar que los valores que obtenemos de las claves o al imprimir un diccionario no están ordenados**. Es un error muy común suponer que el diccionario se guarda internamente en el mismo orden en que fue definido, y es una fuente habitual de errores no tenerlo en cuenta."
   ]
  },
  {
   "cell_type": "code",
   "execution_count": 30,
   "metadata": {
    "attributes": {
     "classes": [
      "sourceCode"
     ],
     "id": ""
    }
   },
   "outputs": [
    {
     "name": "stdout",
     "output_type": "stream",
     "text": [
      "{34: 'España', 81: 'Japón'}\n"
     ]
    }
   ],
   "source": [
    "# Podemos modificar valores en el diccionario o agregar nuevas claves.\n",
    "\n",
    "# Definimos un diccionario vacío. 'country_codes = dict()' es una notación equivalente:\n",
    "country_codes = {}\n",
    "\n",
    "# Añadimos un elemento:\n",
    "country_codes[34] = 'España'\n",
    "\n",
    "# Añadimos otro:\n",
    "country_codes[81] = 'Japón'\n",
    "\n",
    "print(country_codes)"
   ]
  },
  {
   "cell_type": "code",
   "execution_count": 31,
   "metadata": {
    "attributes": {
     "classes": [
      "sourceCode"
     ],
     "id": ""
    }
   },
   "outputs": [
    {
     "name": "stdout",
     "output_type": "stream",
     "text": [
      "{34: 'España', 81: 'Andorra'}\n"
     ]
    }
   ],
   "source": [
    "# Modificamos el diccionario:\n",
    "country_codes[81] = 'Andorra'\n",
    "\n",
    "print(country_codes)"
   ]
  },
  {
   "cell_type": "code",
   "execution_count": 32,
   "metadata": {
    "attributes": {
     "classes": [
      "sourceCode"
     ],
     "id": ""
    }
   },
   "outputs": [
    {
     "name": "stdout",
     "output_type": "stream",
     "text": [
      "{34: 'España', 81: None}\n"
     ]
    }
   ],
   "source": [
    "# Podemos asignar un valor vacío a un elemento:\n",
    "country_codes[81] = None\n",
    "\n",
    "print(country_codes)"
   ]
  },
  {
   "cell_type": "markdown",
   "metadata": {},
   "source": [
    "Els valors buits ens seran útils per declarar una variable que no\n",
    "sapiguem quin valor o quin tipus de valor contindrà i per fer\n",
    "comparacions entre variables. Habitualment, els valors buits són _None_ o\n",
    "'', en el cas de les cadenes de caràcters."
   ]
  },
  {
   "cell_type": "code",
   "execution_count": null,
   "metadata": {
    "attributes": {
     "classes": [
      "sourceCode"
     ],
     "id": ""
    }
   },
   "outputs": [],
   "source": [
    "# Podem assignar el valor d'una variable a una altra. És important que s'entenguin les \n",
    "# línies següents:\n",
    "a = 5\n",
    "b = 1\n",
    "print(a, b)\n",
    "# b conté la 'direcció' del contenidor al qual apunta 'a'.\n",
    "b = a\n",
    "print(a, b)"
   ]
  },
  {
   "cell_type": "code",
   "execution_count": null,
   "metadata": {
    "attributes": {
     "classes": [
      "sourceCode"
     ],
     "id": ""
    }
   },
   "outputs": [],
   "source": [
    "# Vegem ara què passa si modifiquem el valor d'a o b:\n",
    "a = 6\n",
    "print(a, b)\n",
    "b = 7\n",
    "print(a, b)"
   ]
  },
  {
   "cell_type": "markdown",
   "metadata": {},
   "source": [
    "Fins aquí hem presentat com declarar i utilitzar variables. Recomanem la\n",
    "lectura de la [documentació oficial en línia](https://docs.python.org/3/tutorial/introduction.html)\n",
    "per a fixar els coneixements explicats."
   ]
  }
 ],
 "metadata": {
  "kernelspec": {
   "display_name": "Python 3 (ipykernel)",
   "language": "python",
   "name": "python3"
  },
  "language_info": {
   "codemirror_mode": {
    "name": "ipython",
    "version": 3
   },
   "file_extension": ".py",
   "mimetype": "text/x-python",
   "name": "python",
   "nbconvert_exporter": "python",
   "pygments_lexer": "ipython3",
   "version": "3.10.12"
  }
 },
 "nbformat": 4,
 "nbformat_minor": 4
}
