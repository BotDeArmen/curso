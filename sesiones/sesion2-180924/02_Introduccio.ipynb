{
 "cells": [
  {
   "cell_type": "markdown",
   "metadata": {},
   "source": [
    "02 Introducción a Python\n",
    "=========================\n",
    "\n",
    "### Instrucciones de uso\n",
    "\n",
    "En el módulo anterior hemos introducido conceptos básicos sobre variables y su uso en Python. En este módulo estudiaremos conceptos más avanzados como las instrucciones de flujo de ejecución (_for_, _while_, _if_), cómo definir y utilizar funciones, cómo leer y escribir archivos y cómo organizar el código.\n",
    "\n",
    "Iteración y operaciones lógicas\n",
    "-------------------------------\n",
    "\n",
    "En la mayoría de casos tendremos que manipular nuestros datos, y para hacerlo utilizaremos los conceptos de iteración y operaciones lógicas. Las operaciones lógicas nos permiten comparar valores entre variables (mayor, menor, igualdad), y la iteración, visitar uno a uno los elementos de una lista, tupla, diccionario o cualquier estructura de datos que sea susceptible de ser secuenciada."
   ]
  },
  {
   "cell_type": "code",
   "execution_count": 2,
   "metadata": {
    "attributes": {
     "classes": [
      "sourceCode"
     ],
     "id": ""
    }
   },
   "outputs": [
    {
     "name": "stdout",
     "output_type": "stream",
     "text": [
      "True\n"
     ]
    }
   ],
   "source": [
    "# Las operaciones lógicas tendrán como resultado un valor verdadero (True) o falso (False):\n",
    "\n",
    "a = 5\n",
    "b = 1\n",
    "\n",
    "# ¿El valor de a es mayor que b?\n",
    "print(a > b)"
   ]
  },
  {
   "cell_type": "code",
   "execution_count": 3,
   "metadata": {
    "attributes": {
     "classes": [
      "sourceCode"
     ],
     "id": ""
    }
   },
   "outputs": [
    {
     "name": "stdout",
     "output_type": "stream",
     "text": [
      "False\n"
     ]
    }
   ],
   "source": [
    "# El valor de a es menor que b?\n",
    "print(a < b)"
   ]
  },
  {
   "cell_type": "code",
   "execution_count": 4,
   "metadata": {
    "attributes": {
     "classes": [
      "sourceCode"
     ],
     "id": ""
    }
   },
   "outputs": [
    {
     "name": "stdout",
     "output_type": "stream",
     "text": [
      "True\n"
     ]
    }
   ],
   "source": [
    "b = 5\n",
    "# El valor de b es igual que el de a?\n",
    "print(b == a)"
   ]
  },
  {
   "cell_type": "code",
   "execution_count": 5,
   "metadata": {
    "attributes": {
     "classes": [
      "sourceCode"
     ],
     "id": ""
    }
   },
   "outputs": [
    {
     "name": "stdout",
     "output_type": "stream",
     "text": [
      "True\n",
      "True\n",
      "True\n"
     ]
    }
   ],
   "source": [
    "# Otros operadores lógicos disponibles son menor o igual '<=', mayor o igual '>=',\n",
    "# o la negación 'not'\n",
    "print(a <= b)\n",
    "print(a >= b)\n",
    "\n",
    "a = False\n",
    "print(not a)"
   ]
  },
  {
   "cell_type": "markdown",
   "metadata": {},
   "source": [
    "También podemos alterar el flujo de ejecución de nuestro programa utilizando las estructuras *if... else* o *if... elif... else*. Veamos algunos ejemplos:"
   ]
  },
  {
   "cell_type": "code",
   "execution_count": 6,
   "metadata": {
    "attributes": {
     "classes": [
      "sourceCode"
     ],
     "id": ""
    }
   },
   "outputs": [
    {
     "name": "stdout",
     "output_type": "stream",
     "text": [
      "a es menor o igual que b\n"
     ]
    }
   ],
   "source": [
    "a = 5\n",
    "b = 6\n",
    "\n",
    "if a > b:\n",
    "    print('a es mayor que b')\n",
    "else:\n",
    "    print('a es menor o igual que b')"
   ]
  },
  {
   "cell_type": "code",
   "execution_count": 7,
   "metadata": {
    "attributes": {
     "classes": [
      "sourceCode"
     ],
     "id": ""
    }
   },
   "outputs": [
    {
     "name": "stdout",
     "output_type": "stream",
     "text": [
      "a es igual a b\n"
     ]
    }
   ],
   "source": [
    "a = 5\n",
    "b = 5\n",
    "\n",
    "if a > b:\n",
    "    print('a es mayor que b')\n",
    "elif a < b:\n",
    "    print('a es menor que b')\n",
    "else:\n",
    "    print('a es igual a b')"
   ]
  },
  {
   "cell_type": "markdown",
   "metadata": {},
   "source": [
    "En Python hay solo dos maneras de iterar una secuencia: mediante _**for**_ o mediante _**while**_. La primera de las opciones, *for*, iterará uno por uno los elementos contenidos en una lista. En el caso de *while*, iteraremos mientras la condición de permanencia en el bucle se cumpla. Veamos algunos ejemplos:"
   ]
  },
  {
   "cell_type": "code",
   "execution_count": 8,
   "metadata": {
    "attributes": {
     "classes": [
      "sourceCode"
     ],
     "id": ""
    }
   },
   "outputs": [
    {
     "name": "stdout",
     "output_type": "stream",
     "text": [
      "Kraken\n",
      "Leviathan\n",
      "Uroborus\n",
      "Hydra\n",
      "\n",
      "0 Kraken\n",
      "1 Leviathan\n",
      "2 Uroborus\n",
      "3 Hydra\n"
     ]
    }
   ],
   "source": [
    "monsters = ['Kraken', 'Leviathan', 'Uroborus', 'Hydra']\n",
    "\n",
    "# Primer método iterando mediante un bucle for:\n",
    "for monster in monsters:\n",
    "    print(monster)\n",
    "\n",
    "print()\n",
    "\n",
    "# Segundo método. La función especial 'enumerate' nos retorna una tupla en la que el primer elemento es un \n",
    "# índice que comienza en 0 y aumenta de 1 en 1, y el segundo elemento es el valor de la posición en la lista:\n",
    "for i, monster in enumerate(monsters):\n",
    "    print(i, monster)"
   ]
  },
  {
   "cell_type": "code",
   "execution_count": 9,
   "metadata": {
    "attributes": {
     "classes": [
      "sourceCode"
     ],
     "id": ""
    }
   },
   "outputs": [
    {
     "name": "stdout",
     "output_type": "stream",
     "text": [
      "0 Kraken\n",
      "1 Leviathan\n",
      "2 Uroborus\n",
      "3 Hydra\n"
     ]
    }
   ],
   "source": [
    "# También podríamos iterar la lista usando un bucle while, pero es una forma mucho menos idiomática en Python \n",
    "# y preferiremos siempre la opción de for:\n",
    "i = 0\n",
    "# Mientras que el índice 'i' sea menor que la longitud de la lista 'monsters':\n",
    "while i < len(monsters):\n",
    "    # Imprime el valor de la lista en la posición 'i'.\n",
    "    print(i, monsters[i])\n",
    "    # No olvidemos actualizar el valor de 'i' sumándole 1 o tendremos un bucle infinito.\n",
    "    i += 1"
   ]
  },
  {
   "cell_type": "markdown",
   "metadata": {},
   "source": [
    "En este momento seríamos capaces de calcular la serie de Fibonacci hasta un determinado valor:"
   ]
  },
  {
   "cell_type": "code",
   "execution_count": 10,
   "metadata": {
    "attributes": {
     "classes": [
      "sourceCode"
     ],
     "id": ""
    }
   },
   "outputs": [
    {
     "name": "stdout",
     "output_type": "stream",
     "text": [
      "0 1 1 2 3 5 8 13 21 34 55 89 "
     ]
    }
   ],
   "source": [
    "# Calculamos el valor de la serie hasta un valor n = 100.\n",
    "n = 100\n",
    "\n",
    "a, b = 0, 1\n",
    "while a < n:\n",
    "    print(a, end=\" \")\n",
    "    a, b = b, a + b"
   ]
  },
  {
   "cell_type": "markdown",
   "metadata": {},
   "source": [
    "En Python disponemos de una función muy útil para generar una secuencia de números, que podemos utilizar de diferentes maneras:"
   ]
  },
  {
   "cell_type": "code",
   "execution_count": 11,
   "metadata": {
    "attributes": {
     "classes": [
      "sourceCode"
     ],
     "id": ""
    }
   },
   "outputs": [
    {
     "name": "stdout",
     "output_type": "stream",
     "text": [
      "[0, 1, 2, 3, 4, 5, 6, 7, 8, 9]\n"
     ]
    }
   ],
   "source": [
    "# La función 'range' nos retorna un objeto iterable que genera una secuencia de números.\n",
    "# Para convertirlo en una lista, usamos la función 'list':\n",
    "print(list(range(10)))"
   ]
  },
  {
   "cell_type": "markdown",
   "metadata": {},
   "source": [
    "Observad que `range` no devuelve directamente una lista, sino que devuelve un tipo propio del mismo nombre. Por este motivo, para obtener una lista es necesario hacer una conversión de tipo utilizando `list()`. Esto es una novedad en Python 3, ya que en Python 2 la función `range` devolvía una lista."
   ]
  },
  {
   "cell_type": "code",
   "execution_count": 12,
   "metadata": {},
   "outputs": [
    {
     "name": "stdout",
     "output_type": "stream",
     "text": [
      "<class 'range'>\n",
      "<class 'list'>\n"
     ]
    }
   ],
   "source": [
    "# Visualizamos el tipo de retorno de 'range'\n",
    "print(type(range(10)))  # Muestra el tipo de objeto 'range'\n",
    "\n",
    "# Convertimos 'range(10)' en una lista y mostramos el tipo de objeto resultante\n",
    "print(type(list(range(10))))  # Muestra el tipo de objeto 'list'"
   ]
  },
  {
   "cell_type": "markdown",
   "metadata": {},
   "source": [
    "Veamos algunos de los usos más habituales de `range`:"
   ]
  },
  {
   "cell_type": "code",
   "execution_count": 13,
   "metadata": {
    "attributes": {
     "classes": [
      "sourceCode"
     ],
     "id": ""
    }
   },
   "outputs": [
    {
     "name": "stdout",
     "output_type": "stream",
     "text": [
      "0 1 2 3 4 5 6 7 8 9 \n"
     ]
    }
   ],
   "source": [
    "# Podemos utilizar 'range' para iterar:\n",
    "for i in range(10):\n",
    "    print(i, end=\" \")\n",
    "\n",
    "print()"
   ]
  },
  {
   "cell_type": "code",
   "execution_count": 14,
   "metadata": {
    "attributes": {
     "classes": [
      "sourceCode"
     ],
     "id": ""
    }
   },
   "outputs": [
    {
     "name": "stdout",
     "output_type": "stream",
     "text": [
      "0 1 2 3 4 5 6 7 8 9 \n",
      "5 6 7 8 9 \n",
      "5 8 "
     ]
    }
   ],
   "source": [
    "# Podemos definir el rango de acción.\n",
    "\n",
    "# Por ejemplo, especificando solo el final como hicimos antes:\n",
    "for i in range(10):\n",
    "    print(i, end=\" \")\n",
    "\n",
    "print()\n",
    "\n",
    "# Especificando inicio y fin:\n",
    "for i in range(5, 10):\n",
    "    print(i, end=\" \")\n",
    "\n",
    "print()\n",
    "\n",
    "# O especificando también el salto entre cada valor:\n",
    "for i in range(5, 10, 3):\n",
    "    print(i, end=\" \")"
   ]
  },
  {
   "cell_type": "markdown",
   "metadata": {},
   "source": [
    "Siempre que no necesitemos explícitamente una lista, usaremos directamente el tipo `range` (sin hacer la conversión a lista), ya que esto es generalmente más eficiente (ahorra memoria). Solo cuando necesitemos una lista (por ejemplo, para visualizar el resultado como hicimos en el primer ejemplo) convertiremos el resultado de `range` a lista."
   ]
  },
  {
   "cell_type": "code",
   "execution_count": 15,
   "metadata": {
    "attributes": {
     "classes": [
      "sourceCode"
     ],
     "id": ""
    }
   },
   "outputs": [
    {
     "name": "stdout",
     "output_type": "stream",
     "text": [
      "34\n",
      "376\n",
      "41\n",
      "424\n",
      "\n",
      "Spain\n",
      "Andorra\n",
      "Switzerland\n",
      "None\n",
      "\n",
      "34 Spain\n",
      "376 Andorra\n",
      "41 Switzerland\n",
      "424 None\n"
     ]
    }
   ],
   "source": [
    "# También es posible iterar sobre un diccionario:\n",
    "country_codes = {34: 'Spain', 376: 'Andorra', 41: 'Switzerland', 424: None}\n",
    "\n",
    "# Por clave:\n",
    "for country_code in country_codes.keys():\n",
    "    print(country_code)\n",
    "print()\n",
    "\n",
    "# Por valor:\n",
    "for country in country_codes.values():\n",
    "    print(country)\n",
    "print()\n",
    "\n",
    "# Por ambos al mismo tiempo:\n",
    "for country_code, country in country_codes.items():\n",
    "    print(country_code, country)"
   ]
  },
  {
   "cell_type": "markdown",
   "metadata": {},
   "source": [
    "Funciones\n",
    "----------\n",
    "\n",
    "Otra manera muy importante de organizar el flujo de ejecución es encapsulando una cierta porción de código en una función reutilizable. Una función en Python utiliza el mismo concepto que una función matemática. Por ejemplo, imaginemos la función matemática:\n",
    "\n",
    "*suma(x, y) = x + y*\n",
    "\n",
    "En Python podemos definir la misma función de la siguiente manera:"
   ]
  },
  {
   "cell_type": "code",
   "execution_count": 16,
   "metadata": {
    "attributes": {
     "classes": [
      "sourceCode"
     ],
     "id": ""
    }
   },
   "outputs": [
    {
     "name": "stdout",
     "output_type": "stream",
     "text": [
      "6\n",
      "0\n",
      "6.0\n"
     ]
    }
   ],
   "source": [
    "# La función 'suma' se define mediante la palabra especial 'def' y tiene dos argumentos: 'x' y 'y':\n",
    "def suma(x, y):\n",
    "    # Devolvemos el valor de la suma\n",
    "    return x + y\n",
    "\n",
    "# En este momento, podemos llamarla con cualquier valor:\n",
    "print(suma(2, 4))    # Imprime la suma de 2 y 4, que es 6\n",
    "print(suma(5, -5))   # Imprime la suma de 5 y -5, que es 0\n",
    "print(suma(3.5, 2.5)) # Imprime la suma de 3.5 y 2.5, que es 6.0"
   ]
  },
  {
   "cell_type": "code",
   "execution_count": 17,
   "metadata": {
    "attributes": {
     "classes": [
      "sourceCode"
     ],
     "id": ""
    }
   },
   "outputs": [],
   "source": [
    "# Podemos definir una función que no haga nada utilizando la palabra especial 'pass':\n",
    "\n",
    "def dummy():\n",
    "    pass\n",
    "\n",
    "dummy()"
   ]
  },
  {
   "cell_type": "code",
   "execution_count": 18,
   "metadata": {
    "attributes": {
     "classes": [
      "sourceCode"
     ],
     "id": ""
    }
   },
   "outputs": [
    {
     "name": "stdout",
     "output_type": "stream",
     "text": [
      "0 1 1 2 3 5 8 "
     ]
    }
   ],
   "source": [
    "# Podríamos redefinir el fragmento de código de la secuencia de Fibonacci como una función:\n",
    "\n",
    "def fibonacci(n=100):\n",
    "    a, b = 0, 1\n",
    "    while a < n:\n",
    "        print(a, end=\" \")\n",
    "        a, b = b, a + b\n",
    "\n",
    "# Llamamos a la función con el valor 10 para imprimir la secuencia de Fibonacci hasta 10\n",
    "fibonacci(10)"
   ]
  },
  {
   "cell_type": "code",
   "execution_count": 19,
   "metadata": {
    "attributes": {
     "classes": [
      "sourceCode"
     ],
     "id": ""
    }
   },
   "outputs": [
    {
     "name": "stdout",
     "output_type": "stream",
     "text": [
      "0 1 1 2 3 5 8 13 21 34 55 89 "
     ]
    }
   ],
   "source": [
    "# En el ejemplo anterior, hemos definido que el argumento 'n' tenga un valor por defecto. Esto es muy útil\n",
    "# en los casos en los que usamos la función siempre con un mismo valor, queremos dejar constancia de un\n",
    "# caso de ejemplo o por defecto. En este caso, podemos ejecutar la función sin pasarle ningún valor:\n",
    "fibonacci()"
   ]
  },
  {
   "cell_type": "code",
   "execution_count": 20,
   "metadata": {
    "attributes": {
     "classes": [
      "sourceCode"
     ],
     "id": ""
    }
   },
   "outputs": [
    {
     "name": "stdout",
     "output_type": "stream",
     "text": [
      "9\n",
      "8\n"
     ]
    }
   ],
   "source": [
    "# Podemos definir algunos argumentos con valores por defecto y otros sin. \n",
    "# Los argumentos sin valor por defecto siempre deben estar a la izquierda en la definición de la función:\n",
    "\n",
    "def potencia(a, b=2):\n",
    "    # Por defecto, elevaremos al cuadrado.\n",
    "    return a**b\n",
    "\n",
    "print(potencia(3))   # Imprime 3 elevado a 2, que es 9\n",
    "print(potencia(2, 3)) # Imprime 2 elevado a 3, que es 8"
   ]
  },
  {
   "cell_type": "markdown",
   "metadata": {},
   "source": [
    "**Recomendamos la lectura de la [documentación oficial](https://docs.python.org/3/tutorial/controlflow.html)** para consolidar conocimientos.\n",
    "\n",
    "Leer y escribir desde archivos\n",
    "-------------------------------\n",
    "\n",
    "Una tarea habitual es leer líneas de un archivo o escribir líneas en un archivo. En Python, leer y escribir archivos se hace con la biblioteca *os*. Una biblioteca es un conjunto de código que tiene sentido agrupar para ser utilizado por otras personas. En nuestro caso, *os* es una biblioteca que agrupa funciones relacionadas con el sistema operativo (_**o**perating **s**ystem_). Para cargar una biblioteca, utilizaremos la palabra reservada _**import**_. Más adelante explicaremos algunas particularidades de utilizar e importar bibliotecas. A continuación, os explicamos cómo escribir y leer un archivo:"
   ]
  },
  {
   "cell_type": "code",
   "execution_count": 21,
   "metadata": {},
   "outputs": [],
   "source": [
    "import os\n",
    "\n",
    "# Abrimos un archivo llamado 'a_file.txt' para escritura (de ahí la 'w', 'writing').\n",
    "# Lo asignamos a un objeto llamado 'out' para gestionar el archivo.\n",
    "out = open('a_file.txt', 'w')\n",
    "\n",
    "# Escribiremos 10 líneas, cada una con un número del 0 al 9.\n",
    "for i in range(10):\n",
    "    # La línea siguiente escribe en el archivo todo lo que pongamos dentro de 'out.write()'.\n",
    "    # En nuestro caso, es una cadena del tipo 'Línea 0\\n', 'Línea 1\\n', etc. Esto lo conseguimos\n",
    "    # utilizando los placeholders %d y %s.\n",
    "    # %s representa una cadena de caracteres y %d un número entero.\n",
    "    # Concatenamos en este caso un número con una cadena que es el salto de línea,\n",
    "    # os.linesep, que es equivalente a '\\n' en sistemas Linux.\n",
    "    out.write(\"Línea %d%s\" % (i, os.linesep))\n",
    "    \n",
    "# Cerramos el archivo para asegurarnos de que todos los datos se escriben correctamente.\n",
    "out.close()"
   ]
  },
  {
   "cell_type": "code",
   "execution_count": 22,
   "metadata": {},
   "outputs": [
    {
     "name": "stdout",
     "output_type": "stream",
     "text": [
      "Línea 0\n",
      "Línea 1\n",
      "Línea 2\n",
      "Línea 3\n",
      "Línea 4\n",
      "Línea 5\n",
      "Línea 6\n",
      "Línea 7\n",
      "Línea 8\n",
      "Línea 9\n",
      "\n",
      "Línea 0\n",
      "Línea 1\n",
      "Línea 2\n",
      "Línea 3\n",
      "Línea 4\n",
      "Línea 5\n",
      "Línea 6\n",
      "Línea 7\n",
      "Línea 8\n",
      "Línea 9\n",
      "\n",
      "Línea 0\n",
      "Línea 1\n",
      "Línea 2\n",
      "Línea 3\n",
      "Línea 4\n",
      "Línea 5\n",
      "Línea 6\n",
      "Línea 7\n",
      "Línea 8\n",
      "Línea 9\n"
     ]
    }
   ],
   "source": [
    "# Ahora leeremos el archivo que acabamos de escribir de tres maneras diferentes:\n",
    "\n",
    "# Primer método\n",
    "f = open('a_file.txt')\n",
    "for line in f:\n",
    "    print(line, end=\"\")  # Imprime cada línea sin añadir un salto de línea extra\n",
    "f.close()\n",
    "print()\n",
    "\n",
    "# Segundo método\n",
    "f = open('a_file.txt')\n",
    "lines = f.readlines()  # Lee todas las líneas del archivo en una lista\n",
    "for line in lines:\n",
    "    print(line, end=\"\")  # Imprime cada línea sin añadir un salto de línea extra\n",
    "f.close()\n",
    "print()\n",
    "\n",
    "# Tercer método\n",
    "with open('a_file.txt') as f:  # Usa 'with' para manejar automáticamente el cierre del archivo\n",
    "    for line in f:\n",
    "        print(line, end=\"\")  # Imprime cada línea sin añadir un salto de línea extra"
   ]
  },
  {
   "cell_type": "markdown",
   "metadata": {},
   "source": [
    "Organización del código\n",
    "-----------------------\n",
    "\n",
    "Un módulo de Python es cualquier archivo con extensión *.py* que esté bajo la ruta del _path_ de Python. El path de Python se puede consultar importando la biblioteca `sys`:"
   ]
  },
  {
   "cell_type": "code",
   "execution_count": 23,
   "metadata": {},
   "outputs": [
    {
     "name": "stdout",
     "output_type": "stream",
     "text": [
      "['/usr/lib/python310.zip', '/usr/lib/python3.10', '/usr/lib/python3.10/lib-dynload', '', '/home/ubuntu/.local/lib/python3.10/site-packages', '/usr/local/lib/python3.10/dist-packages', '/usr/lib/python3/dist-packages']\n"
     ]
    }
   ],
   "source": [
    "import sys\n",
    "print(sys.path)"
   ]
  },
  {
   "cell_type": "markdown",
   "metadata": {},
   "source": [
    "Por defecto, Python también busca las bibliotecas que se hayan definido en la variable de entorno `$PYTHONPATH` (esto puede variar ligeramente en un [entorno Windows](https://docs.python.org/3/using/cmdline.html))."
   ]
  },
  {
   "cell_type": "markdown",
   "metadata": {},
   "source": [
    "Un paquete en Python es cualquier directorio que contenga un archivo especial llamado *\\_\\_init\\_\\_.py* (este archivo estará vacío la mayoría de las veces).\n",
    "\n",
    "Un módulo puede contener diferentes funciones, variables u objetos. Por ejemplo, definamos un módulo llamado *prog_datasci.py* que contenga:"
   ]
  },
  {
   "cell_type": "code",
   "execution_count": 24,
   "metadata": {
    "attributes": {
     "classes": [
      "sourceCode"
     ],
     "id": ""
    }
   },
   "outputs": [],
   "source": [
    "# prog_datasci.py\n",
    "\n",
    "PI = 3.14159265\n",
    "\n",
    "def suma(x, y):\n",
    "    return x + y\n",
    "\n",
    "def resta(x, y):\n",
    "    return x - y"
   ]
  },
  {
   "cell_type": "markdown",
   "metadata": {},
   "source": [
    "Para utilizar desde otro módulo o _script_ estas funciones, deberíamos escribir lo siguiente:"
   ]
  },
  {
   "cell_type": "code",
   "execution_count": 26,
   "metadata": {
    "attributes": {
     "classes": [
      "sourceCode"
     ],
     "id": ""
    }
   },
   "outputs": [
    {
     "name": "stdout",
     "output_type": "stream",
     "text": [
      "Resultado de la suma: 7\n",
      "Resultado de la resta: 4\n",
      "Valor de PI: 3.14159265\n"
     ]
    }
   ],
   "source": [
    "from prog_datasci import PI, suma, resta\n",
    "\n",
    "# Luego podemos utilizar estas funciones y constantes normalmente.\n",
    "rset = suma(2, 5)\n",
    "print(\"Resultado de la suma:\", rset)\n",
    "\n",
    "# También podemos usar la constante PI y la función resta:\n",
    "resultado_resta = resta(7, 3)\n",
    "print(\"Resultado de la resta:\", resultado_resta)\n",
    "print(\"Valor de PI:\", PI)"
   ]
  },
  {
   "cell_type": "markdown",
   "metadata": {},
   "source": [
    "En Python también podemos usar la directiva `from prog_datasci import *`, pero su uso está **totalmente desaconsejado**. La razón es que estaríamos importando una gran cantidad de código que no utilizaremos (con el consiguiente aumento del uso de memoria), y además podríamos tener colisiones de nombres (funciones que se llamen igual en diferentes módulos) sin nuestro conocimiento. A menos que sea imprescindible, no utilizaremos esta directiva e importaremos una a una las bibliotecas y funciones que necesitaremos.\n",
    "\n",
    "Pueden aprender más sobre cómo importar bibliotecas y definir sus propios módulos [aquí](http://life.bsc.es/pid/brian/python/#/5)."
   ]
  }
 ],
 "metadata": {
  "kernelspec": {
   "display_name": "Python 3 (ipykernel)",
   "language": "python",
   "name": "python3"
  },
  "language_info": {
   "codemirror_mode": {
    "name": "ipython",
    "version": 3
   },
   "file_extension": ".py",
   "mimetype": "text/x-python",
   "name": "python",
   "nbconvert_exporter": "python",
   "pygments_lexer": "ipython3",
   "version": "3.10.12"
  }
 },
 "nbformat": 4,
 "nbformat_minor": 4
}
